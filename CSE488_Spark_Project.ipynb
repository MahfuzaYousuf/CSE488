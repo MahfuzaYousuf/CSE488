{
  "cells": [
    {
      "cell_type": "markdown",
      "metadata": {
        "id": "GTwDFnjHMk25"
      },
      "source": [
        "# CSE488 \n",
        "## Spark Tutorial in pySpark\n",
        "\n",
        "In this tutorial you will learn how to use [Apache Spark](https://spark.apache.org) in local mode on a Colab enviroment.\n",
        "\n",
        "Credits to [Tiziano Piccardi](http://piccardi.me/) for his Spark Tutorial used in the Applied Data Analysis class at EPFL."
      ]
    },
    {
      "cell_type": "markdown",
      "metadata": {
        "id": "eXQzA01OS_yQ"
      },
      "source": [
        "### Setup"
      ]
    },
    {
      "cell_type": "markdown",
      "metadata": {
        "id": "AbYZoVVWOZA5"
      },
      "source": [
        "Let's setup Spark on your Colab environment.  Run the cell below!"
      ]
    },
    {
      "cell_type": "code",
      "execution_count": null,
      "metadata": {
        "colab": {
          "base_uri": "https://localhost:8080/"
        },
        "id": "55vYbI9VYSzE",
        "outputId": "f07d5f29-059a-4b74-f003-2727dbba7ee7"
      },
      "outputs": [
        {
          "output_type": "stream",
          "name": "stdout",
          "text": [
            "Hit:1 https://cloud.r-project.org/bin/linux/ubuntu bionic-cran40/ InRelease\n",
            "Ign:2 https://developer.download.nvidia.com/compute/cuda/repos/ubuntu1804/x86_64  InRelease\n",
            "Hit:3 http://security.ubuntu.com/ubuntu bionic-security InRelease\n",
            "Hit:4 http://ppa.launchpad.net/c2d4u.team/c2d4u4.0+/ubuntu bionic InRelease\n",
            "Hit:5 http://archive.ubuntu.com/ubuntu bionic InRelease\n",
            "Ign:6 https://developer.download.nvidia.com/compute/machine-learning/repos/ubuntu1804/x86_64  InRelease\n",
            "Hit:7 https://developer.download.nvidia.com/compute/cuda/repos/ubuntu1804/x86_64  Release\n",
            "Hit:8 https://developer.download.nvidia.com/compute/machine-learning/repos/ubuntu1804/x86_64  Release\n",
            "Hit:9 http://archive.ubuntu.com/ubuntu bionic-updates InRelease\n",
            "Hit:10 http://ppa.launchpad.net/cran/libgit2/ubuntu bionic InRelease\n",
            "Hit:12 http://archive.ubuntu.com/ubuntu bionic-backports InRelease\n",
            "Hit:14 http://ppa.launchpad.net/deadsnakes/ppa/ubuntu bionic InRelease\n",
            "Hit:15 http://ppa.launchpad.net/graphics-drivers/ppa/ubuntu bionic InRelease\n",
            "Reading package lists... Done\n"
          ]
        }
      ],
      "source": [
        "!apt-get update"
      ]
    },
    {
      "cell_type": "code",
      "execution_count": null,
      "metadata": {
        "colab": {
          "base_uri": "https://localhost:8080/"
        },
        "id": "dhzk3GE6S9RC",
        "outputId": "3af25037-b046-4738-c5b3-ce4215f45180"
      },
      "outputs": [
        {
          "output_type": "stream",
          "name": "stdout",
          "text": [
            "Requirement already satisfied: pyspark in /usr/local/lib/python3.7/dist-packages (3.2.0)\n",
            "Requirement already satisfied: py4j==0.10.9.2 in /usr/local/lib/python3.7/dist-packages (from pyspark) (0.10.9.2)\n",
            "openjdk-8-jdk-headless is already the newest version (8u312-b07-0ubuntu1~18.04).\n",
            "0 upgraded, 0 newly installed, 0 to remove and 58 not upgraded.\n"
          ]
        }
      ],
      "source": [
        "!pip install pyspark\n",
        "!pip install -U -q PyDrive\n",
        "!apt install openjdk-8-jdk-headless -qq\n",
        "import os\n",
        "os.environ[\"JAVA_HOME\"] = \"/usr/lib/jvm/java-8-openjdk-amd64\""
      ]
    },
    {
      "cell_type": "markdown",
      "metadata": {
        "id": "ctU1dYjfOif7"
      },
      "source": [
        "Now we authenticate a Google Drive client to download the file we will be processing in our Spark job.\n",
        "\n",
        "**Make sure to follow the interactive instructions.**"
      ]
    },
    {
      "cell_type": "code",
      "execution_count": null,
      "metadata": {
        "id": "1dfnX7IAOkvH"
      },
      "outputs": [],
      "source": [
        "from pydrive.auth import GoogleAuth\n",
        "from pydrive.drive import GoogleDrive\n",
        "from google.colab import auth\n",
        "from oauth2client.client import GoogleCredentials\n",
        "\n",
        "# Authenticate and create the PyDrive client\n",
        "# auth.authenticate_user()\n",
        "# gauth = GoogleAuth()\n",
        "# gauth.credentials = GoogleCredentials.get_application_default()\n",
        "# drive = GoogleDrive(gauth)"
      ]
    },
    {
      "cell_type": "code",
      "execution_count": null,
      "metadata": {
        "id": "xgQaRx6rSaf9"
      },
      "outputs": [],
      "source": [
        "# Let's import the libraries we will need\n",
        "import pandas as pd\n",
        "import numpy as np\n",
        "import matplotlib.pyplot as plt\n",
        "%matplotlib inline\n",
        "\n",
        "import pyspark\n",
        "from pyspark.sql import *\n",
        "from pyspark.sql.functions import *\n",
        "from pyspark import SparkContext, SparkConf"
      ]
    },
    {
      "cell_type": "markdown",
      "metadata": {
        "id": "-n20ixkgSagD"
      },
      "source": [
        "You can easily check the current version and get the link of the web interface. In the Spark UI, you can monitor the progress of your job and debug the performance bottlenecks (if your Colab is running with a **local runtime**)."
      ]
    },
    {
      "cell_type": "code",
      "execution_count": null,
      "metadata": {
        "id": "YIqTK-MpJlmt"
      },
      "outputs": [],
      "source": [
        "# create the session\n",
        "conf = SparkConf().set(\"spark.ui.port\", \"4050\")\n",
        "\n",
        "# create the context\n",
        "sc = pyspark.SparkContext(conf=conf)\n",
        "spark = SparkSession.builder.getOrCreate()"
      ]
    },
    {
      "cell_type": "code",
      "execution_count": null,
      "metadata": {
        "colab": {
          "base_uri": "https://localhost:8080/",
          "height": 219
        },
        "id": "Fl4RHbqFSagE",
        "outputId": "faa32f10-27cc-47f1-ccf6-7423cb2246e0"
      },
      "outputs": [
        {
          "output_type": "execute_result",
          "data": {
            "text/html": [
              "\n",
              "            <div>\n",
              "                <p><b>SparkSession - in-memory</b></p>\n",
              "                \n",
              "        <div>\n",
              "            <p><b>SparkContext</b></p>\n",
              "\n",
              "            <p><a href=\"http://33518e2597e1:4050\">Spark UI</a></p>\n",
              "\n",
              "            <dl>\n",
              "              <dt>Version</dt>\n",
              "                <dd><code>v3.2.0</code></dd>\n",
              "              <dt>Master</dt>\n",
              "                <dd><code>local[*]</code></dd>\n",
              "              <dt>AppName</dt>\n",
              "                <dd><code>pyspark-shell</code></dd>\n",
              "            </dl>\n",
              "        </div>\n",
              "        \n",
              "            </div>\n",
              "        "
            ],
            "text/plain": [
              "<pyspark.sql.session.SparkSession at 0x7f52a62af2d0>"
            ]
          },
          "metadata": {},
          "execution_count": 6
        }
      ],
      "source": [
        "spark"
      ]
    },
    {
      "cell_type": "markdown",
      "metadata": {
        "id": "xlw1Mgx0T9-l"
      },
      "source": [
        "If you are running this Colab on the Google hosted runtime, the cell below will create a *ngrok* tunnel which will allow you to still check the Spark UI."
      ]
    },
    {
      "cell_type": "code",
      "execution_count": null,
      "metadata": {
        "id": "cYYlUTWYQMjb"
      },
      "outputs": [],
      "source": [
        "# !wget https://bin.equinox.io/c/4VmDzA7iaHb/ngrok-stable-linux-amd64.zip\n",
        "# !unzip ngrok-stable-linux-amd64.zip\n",
        "# get_ipython().system_raw('./ngrok http 4050 &')\n",
        "# !curl -s http://localhost:4040/api/tunnels | python3 -c \\\n",
        "#     \"import sys, json; print(json.load(sys.stdin)['tunnels'][0]['public_url'])\""
      ]
    },
    {
      "cell_type": "markdown",
      "metadata": {
        "id": "0iyCZUyhxkJv"
      },
      "source": [
        "# Project\n"
      ]
    },
    {
      "cell_type": "markdown",
      "metadata": {
        "id": "y-3lEugQxm5W"
      },
      "source": [
        "# Task 1\n",
        "\n",
        "**Part 1**\n",
        "1. Which category has the highest number of page hits?\n",
        "2. Which category has the lowest number of page hits?\n",
        "3. Which category has the highest number of page hits by distinct users?\n",
        "4. Which category has the lowest number of page hits by distinct users?"
      ]
    },
    {
      "cell_type": "code",
      "execution_count": null,
      "metadata": {
        "colab": {
          "base_uri": "https://localhost:8080/",
          "height": 105
        },
        "id": "9n8ZqxibxmNr",
        "outputId": "d2344773-0917-48ce-9d01-5a5f31e2debf"
      },
      "outputs": [
        {
          "output_type": "stream",
          "name": "stderr",
          "text": [
            "Downloading...\n",
            "From: https://drive.google.com/uc?id=11gMRYtuiGS_VYGWM9Pxa9PSNNu43BM_0\n",
            "To: /content/msnbc990928.seq\n",
            "100%|██████████| 12.6M/12.6M [00:00<00:00, 241MB/s]\n"
          ]
        },
        {
          "output_type": "execute_result",
          "data": {
            "application/vnd.google.colaboratory.intrinsic+json": {
              "type": "string"
            },
            "text/plain": [
              "'msnbc990928.seq'"
            ]
          },
          "metadata": {},
          "execution_count": 8
        }
      ],
      "source": [
        "# Download data\n",
        "import gdown \n",
        "gdown.download('https://drive.google.com/uc?id=11gMRYtuiGS_VYGWM9Pxa9PSNNu43BM_0', 'msnbc990928.seq', quiet=False)"
      ]
    },
    {
      "cell_type": "code",
      "execution_count": null,
      "metadata": {
        "colab": {
          "base_uri": "https://localhost:8080/"
        },
        "id": "hQEbk_9k0BLL",
        "outputId": "108282c0-3a7e-4804-a268-5ec20d0ee6b2"
      },
      "outputs": [
        {
          "name": "stdout",
          "output_type": "stream",
          "text": [
            "282805\n",
            "<class 'pyspark.rdd.RDD'>\n"
          ]
        }
      ],
      "source": [
        "# Read datafile\n",
        "\n",
        "lines = sc.textFile(\"msnbc990928.seq\")\n",
        "lines = lines.take(282805) # Take first 282805 lines as a lit\n",
        "print(len(lines))\n",
        "lines = sc.parallelize(lines) # Convert list back into RDD\n",
        "print(type(lines))\n",
        "# print(lines.collect())"
      ]
    },
    {
      "cell_type": "markdown",
      "metadata": {
        "id": "o_aZMShL0QqK"
      },
      "source": [
        "**1. Which category has the highest number of page hits?**"
      ]
    },
    {
      "cell_type": "code",
      "execution_count": null,
      "metadata": {
        "colab": {
          "base_uri": "https://localhost:8080/"
        },
        "id": "tVmUSlUuy_-y",
        "outputId": "c5bd48da-f36a-42bd-f52b-48a74b352717"
      },
      "outputs": [
        {
          "data": {
            "text/plain": [
              "[('1', 1),\n",
              " ('1', 1),\n",
              " ('2', 1),\n",
              " ('3', 1),\n",
              " ('2', 1),\n",
              " ('2', 1),\n",
              " ('4', 1),\n",
              " ('2', 1),\n",
              " ('2', 1),\n",
              " ('2', 1),\n",
              " ('3', 1),\n",
              " ('3', 1),\n",
              " ('5', 1),\n",
              " ('1', 1),\n",
              " ('6', 1),\n",
              " ('1', 1),\n",
              " ('1', 1),\n",
              " ('6', 1),\n",
              " ('6', 1),\n",
              " ('7', 1)]"
            ]
          },
          "execution_count": 55,
          "metadata": {},
          "output_type": "execute_result"
        }
      ],
      "source": [
        "#1 map\n",
        "p1_lines = lines.flatMap(lambda value: value.split(\" \"))\n",
        "p1_lines = p1_lines.filter(lambda value: value != '' )\n",
        "rdd_map_p1 = p1_lines.map(lambda value:(value, 1))\n",
        "rdd_map_p1.take(20)"
      ]
    },
    {
      "cell_type": "code",
      "execution_count": null,
      "metadata": {
        "colab": {
          "base_uri": "https://localhost:8080/"
        },
        "id": "fnDHsEwI0vwB",
        "outputId": "e292db90-18bb-43fe-ed6c-8537705abf98"
      },
      "outputs": [
        {
          "name": "stdout",
          "output_type": "stream",
          "text": [
            "<class 'pyspark.rdd.PipelinedRDD'>\n",
            "[('1', 267801), ('2', 128589), ('8', 125523), ('6', 118919), ('14', 113040), ('4', 110369), ('7', 86376), ('12', 77357), ('13', 61567), ('3', 58355), ('9', 56656), ('5', 42885), ('10', 36974), ('11', 27989), ('15', 18343), ('16', 6821), ('17', 4900)]\n"
          ]
        }
      ],
      "source": [
        "#1 reduce \n",
        "rdd_reduce_p1 = rdd_map_p1.reduceByKey(lambda x, y: x+y).sortBy(lambda r: -r[1])\n",
        "print(type(rdd_reduce_p1))\n",
        "rdd_p1_result = rdd_reduce_p1.collect()\n",
        "print(rdd_p1_result)"
      ]
    },
    {
      "cell_type": "code",
      "execution_count": null,
      "metadata": {
        "colab": {
          "base_uri": "https://localhost:8080/"
        },
        "id": "AwiZrLWZ08VX",
        "outputId": "bcafbfcf-2a8e-453e-d21a-14455ef505bd"
      },
      "outputs": [
        {
          "name": "stdout",
          "output_type": "stream",
          "text": [
            "Category with most amount of page hits = 1; with total hits of 267801\n"
          ]
        }
      ],
      "source": [
        "#1 Result\n",
        "res = \"Category with most amount of page hits = \" + rdd_p1_result[0][0] + \"; with total hits of \" + str(rdd_p1_result[0][1])\n",
        "print(res)"
      ]
    },
    {
      "cell_type": "markdown",
      "metadata": {
        "id": "TUU1eRX90baS"
      },
      "source": [
        "**2. Which category has the lowest number of page hits?**"
      ]
    },
    {
      "cell_type": "code",
      "execution_count": null,
      "metadata": {
        "colab": {
          "base_uri": "https://localhost:8080/"
        },
        "id": "_c-B8lST3Un_",
        "outputId": "c20e4495-3c65-4f90-eff4-e28044888f82"
      },
      "outputs": [
        {
          "name": "stdout",
          "output_type": "stream",
          "text": [
            "<class 'pyspark.rdd.PipelinedRDD'>\n",
            "[('17', 4900), ('16', 6821), ('15', 18343), ('11', 27989), ('10', 36974), ('5', 42885), ('9', 56656), ('3', 58355), ('13', 61567), ('12', 77357), ('7', 86376), ('4', 110369), ('14', 113040), ('6', 118919), ('8', 125523), ('2', 128589), ('1', 267801)]\n"
          ]
        }
      ],
      "source": [
        "#2 \n",
        "rdd_reduce_p2 = rdd_map_p1.reduceByKey(lambda x, y: x+y).sortBy(lambda r: r[1])\n",
        "print(type(rdd_reduce_p2))\n",
        "rdd_p2_result = rdd_reduce_p2.collect()\n",
        "print(rdd_p2_result)"
      ]
    },
    {
      "cell_type": "code",
      "execution_count": null,
      "metadata": {
        "colab": {
          "base_uri": "https://localhost:8080/"
        },
        "id": "WXqDl5im331v",
        "outputId": "5f3abdb6-3a60-40c7-9057-4b6d8e4e51f9"
      },
      "outputs": [
        {
          "name": "stdout",
          "output_type": "stream",
          "text": [
            "Category with least amount of page hits = 17; with total hits of 4900\n"
          ]
        }
      ],
      "source": [
        "#2 Result\n",
        "res2 = \"Category with least amount of page hits = \" + rdd_p2_result[0][0] + \"; with total hits of \" + str(rdd_p2_result[0][1])\n",
        "print(res2)"
      ]
    },
    {
      "cell_type": "code",
      "execution_count": null,
      "metadata": {
        "colab": {
          "base_uri": "https://localhost:8080/"
        },
        "id": "CMfwFDgp598I",
        "outputId": "32baea9d-4124-4346-cd5f-70d5d3e23b6f"
      },
      "outputs": [
        {
          "name": "stdout",
          "output_type": "stream",
          "text": [
            "3 2 2 4 2 2 2 3 3 \n",
            "<class 'str'>\n"
          ]
        }
      ],
      "source": [
        "# Create RDD with unique values for problem 3 and 4 \n",
        "print(lines.collect()[2])\n",
        "print(type(lines.collect()[2]))"
      ]
    },
    {
      "cell_type": "markdown",
      "metadata": {
        "id": "gb98CFLt0iPN"
      },
      "source": [
        "**3. Which category has the highest number of page hits by distinct users?**"
      ]
    },
    {
      "cell_type": "code",
      "execution_count": null,
      "metadata": {
        "colab": {
          "base_uri": "https://localhost:8080/"
        },
        "id": "_rj4dOpqCg5-",
        "outputId": "eb733c9f-b0fc-43b5-c57e-132b3561f40e"
      },
      "outputs": [
        {
          "data": {
            "text/plain": [
              "[['1', '1', ''],\n",
              " ['2', ''],\n",
              " ['3', '2', '2', '4', '2', '2', '2', '3', '3', ''],\n",
              " ['5', ''],\n",
              " ['1', ''],\n",
              " ['6', ''],\n",
              " ['1', '1', ''],\n",
              " ['6', ''],\n",
              " ['6', '7', '7', '7', '6', '6', '8', '8', '8', '8', ''],\n",
              " ['6', '9', '4', '4', '4', '10', '3', '10', '5', '10', '4', '4', '4', ''],\n",
              " ['1', '1', '1', '11', '1', '1', '1', ''],\n",
              " ['12', '12', ''],\n",
              " ['1', '1', ''],\n",
              " ['8', '8', '8', '8', '8', '8', ''],\n",
              " ['6', ''],\n",
              " ['2', ''],\n",
              " ['9', '12', ''],\n",
              " ['3', ''],\n",
              " ['9', ''],\n",
              " ['3', '']]"
            ]
          },
          "execution_count": 16,
          "metadata": {},
          "output_type": "execute_result"
        }
      ],
      "source": [
        "p3_lines = lines.map(lambda value: value.split(\" \"))\n",
        "p3_lines.take(20)"
      ]
    },
    {
      "cell_type": "code",
      "execution_count": null,
      "metadata": {
        "colab": {
          "base_uri": "https://localhost:8080/"
        },
        "id": "W38yDTsIDjyO",
        "outputId": "486c536b-3467-4c08-d678-95fa877eda22"
      },
      "outputs": [
        {
          "data": {
            "text/plain": [
              "[{'', '1'},\n",
              " {'', '2'},\n",
              " {'', '2', '3', '4'},\n",
              " {'', '5'},\n",
              " {'', '1'},\n",
              " {'', '6'},\n",
              " {'', '1'},\n",
              " {'', '6'},\n",
              " {'', '6', '7', '8'},\n",
              " {'', '10', '3', '4', '5', '6', '9'},\n",
              " {'', '1', '11'},\n",
              " {'', '12'},\n",
              " {'', '1'},\n",
              " {'', '8'},\n",
              " {'', '6'},\n",
              " {'', '2'},\n",
              " {'', '12', '9'},\n",
              " {'', '3'},\n",
              " {'', '9'},\n",
              " {'', '3'}]"
            ]
          },
          "execution_count": 17,
          "metadata": {},
          "output_type": "execute_result"
        }
      ],
      "source": [
        "# Convert to set to get rid of duplicates for each user \n",
        "p3_lines2 = p3_lines.map(lambda value: set(value))\n",
        "p3_lines2.take(20)"
      ]
    },
    {
      "cell_type": "code",
      "execution_count": null,
      "metadata": {
        "colab": {
          "base_uri": "https://localhost:8080/"
        },
        "id": "EEyaO6g3D_8f",
        "outputId": "e2528be4-c435-4c9b-d9a7-2f1e67b4b878"
      },
      "outputs": [
        {
          "data": {
            "text/plain": [
              "['1',\n",
              " '2',\n",
              " '4',\n",
              " '3',\n",
              " '2',\n",
              " '5',\n",
              " '1',\n",
              " '6',\n",
              " '1',\n",
              " '6',\n",
              " '7',\n",
              " '8',\n",
              " '6',\n",
              " '10',\n",
              " '5',\n",
              " '3',\n",
              " '4',\n",
              " '9',\n",
              " '6',\n",
              " '1']"
            ]
          },
          "execution_count": 18,
          "metadata": {},
          "output_type": "execute_result"
        }
      ],
      "source": [
        "p3_lines3 = p3_lines2.flatMap(lambda value: value)\n",
        "p3_lines3 = p3_lines3.filter(lambda value: value != '' )\n",
        "p3_lines3.take(20)"
      ]
    },
    {
      "cell_type": "code",
      "execution_count": null,
      "metadata": {
        "colab": {
          "base_uri": "https://localhost:8080/"
        },
        "id": "nH25b_BSErC_",
        "outputId": "0b14c341-7e0c-4a13-c060-6125545b1a4b"
      },
      "outputs": [
        {
          "name": "stdout",
          "output_type": "stream",
          "text": [
            "[('1', 1), ('2', 1), ('4', 1), ('3', 1), ('2', 1), ('5', 1), ('1', 1), ('6', 1), ('1', 1), ('6', 1), ('7', 1), ('8', 1), ('6', 1), ('10', 1), ('5', 1), ('3', 1), ('4', 1), ('9', 1), ('6', 1), ('1', 1)]\n"
          ]
        }
      ],
      "source": [
        "#3 Map\n",
        "rdd_map_p3 = p3_lines3.map(lambda value:(value, 1))\n",
        "print(rdd_map_p3.take(20))"
      ]
    },
    {
      "cell_type": "code",
      "execution_count": null,
      "metadata": {
        "colab": {
          "base_uri": "https://localhost:8080/"
        },
        "id": "fBqMP8NnF2yI",
        "outputId": "f72f1220-9db9-4643-e4df-6765543e4d04"
      },
      "outputs": [
        {
          "name": "stdout",
          "output_type": "stream",
          "text": [
            "<class 'pyspark.rdd.PipelinedRDD'>\n",
            "[('1', 89639), ('6', 61971), ('2', 50125), ('4', 35188), ('3', 34932), ('14', 33865), ('12', 32129), ('8', 27128), ('9', 25797), ('7', 22864), ('13', 21972), ('11', 16606), ('10', 14375), ('15', 8294), ('5', 7059), ('17', 3190), ('16', 583)]\n"
          ]
        }
      ],
      "source": [
        "#3 Reduce \n",
        "rdd_reduce_p3 = rdd_map_p3.reduceByKey(lambda x, y: x+y).sortBy(lambda r: -r[1])\n",
        "print(type(rdd_reduce_p1))\n",
        "print(rdd_reduce_p3.take(20))\n",
        "rdd_p3_result = rdd_reduce_p3.collect()\n"
      ]
    },
    {
      "cell_type": "code",
      "execution_count": null,
      "metadata": {
        "colab": {
          "base_uri": "https://localhost:8080/"
        },
        "id": "MlQj2DshF2Se",
        "outputId": "fd6bcbae-b3e4-4635-e0a6-40cf739a97d0"
      },
      "outputs": [
        {
          "name": "stdout",
          "output_type": "stream",
          "text": [
            "Category with most amount of page hits by distinct users  = 1; with total hits of 89639\n"
          ]
        }
      ],
      "source": [
        "#3 Result\n",
        "res = \"Category with most amount of page hits by distinct users  = \" + rdd_p3_result[0][0] + \"; with total hits of \" + str(rdd_p3_result[0][1])\n",
        "print(res)"
      ]
    },
    {
      "cell_type": "markdown",
      "metadata": {
        "id": "1xXXAieW0xZA"
      },
      "source": [
        "**4. Which category has the lowest number of page hits by distinct users?**"
      ]
    },
    {
      "cell_type": "code",
      "execution_count": null,
      "metadata": {
        "colab": {
          "base_uri": "https://localhost:8080/"
        },
        "id": "wS3mP-6-F11f",
        "outputId": "ed9904be-9674-4959-e65d-7e1d97f8d372"
      },
      "outputs": [
        {
          "data": {
            "text/plain": [
              "[['1', '1', ''],\n",
              " ['2', ''],\n",
              " ['3', '2', '2', '4', '2', '2', '2', '3', '3', ''],\n",
              " ['5', ''],\n",
              " ['1', ''],\n",
              " ['6', ''],\n",
              " ['1', '1', ''],\n",
              " ['6', ''],\n",
              " ['6', '7', '7', '7', '6', '6', '8', '8', '8', '8', ''],\n",
              " ['6', '9', '4', '4', '4', '10', '3', '10', '5', '10', '4', '4', '4', ''],\n",
              " ['1', '1', '1', '11', '1', '1', '1', ''],\n",
              " ['12', '12', ''],\n",
              " ['1', '1', ''],\n",
              " ['8', '8', '8', '8', '8', '8', ''],\n",
              " ['6', ''],\n",
              " ['2', ''],\n",
              " ['9', '12', ''],\n",
              " ['3', ''],\n",
              " ['9', ''],\n",
              " ['3', '']]"
            ]
          },
          "execution_count": 58,
          "metadata": {},
          "output_type": "execute_result"
        }
      ],
      "source": [
        "p4_lines = lines.map(lambda value: value.split(\" \"))\n",
        "p4_lines.take(20)"
      ]
    },
    {
      "cell_type": "code",
      "execution_count": null,
      "metadata": {
        "colab": {
          "base_uri": "https://localhost:8080/"
        },
        "id": "PA89f-bKHuTb",
        "outputId": "aec1d272-cf69-49fd-a29a-636e4e3f27f3"
      },
      "outputs": [
        {
          "data": {
            "text/plain": [
              "[{'', '1'},\n",
              " {'', '2'},\n",
              " {'', '2', '3', '4'},\n",
              " {'', '5'},\n",
              " {'', '1'},\n",
              " {'', '6'},\n",
              " {'', '1'},\n",
              " {'', '6'},\n",
              " {'', '6', '7', '8'},\n",
              " {'', '10', '3', '4', '5', '6', '9'},\n",
              " {'', '1', '11'},\n",
              " {'', '12'},\n",
              " {'', '1'},\n",
              " {'', '8'},\n",
              " {'', '6'},\n",
              " {'', '2'},\n",
              " {'', '12', '9'},\n",
              " {'', '3'},\n",
              " {'', '9'},\n",
              " {'', '3'}]"
            ]
          },
          "execution_count": 59,
          "metadata": {},
          "output_type": "execute_result"
        }
      ],
      "source": [
        "p4_lines2 = p4_lines.map(lambda value: set(value))\n",
        "p4_lines2.take(20)"
      ]
    },
    {
      "cell_type": "code",
      "execution_count": null,
      "metadata": {
        "colab": {
          "base_uri": "https://localhost:8080/"
        },
        "id": "RZey3ZfwKHDB",
        "outputId": "f208052b-2883-4fd9-a00f-52b98e080ebe"
      },
      "outputs": [
        {
          "data": {
            "text/plain": [
              "['1',\n",
              " '2',\n",
              " '4',\n",
              " '3',\n",
              " '2',\n",
              " '5',\n",
              " '1',\n",
              " '6',\n",
              " '1',\n",
              " '6',\n",
              " '7',\n",
              " '8',\n",
              " '6',\n",
              " '10',\n",
              " '5',\n",
              " '3',\n",
              " '4',\n",
              " '9',\n",
              " '6',\n",
              " '1']"
            ]
          },
          "execution_count": 60,
          "metadata": {},
          "output_type": "execute_result"
        }
      ],
      "source": [
        "p4_lines3 = p4_lines2.flatMap(lambda value: value)\n",
        "p4_lines3 = p4_lines3.filter(lambda value: value != '' )\n",
        "p4_lines3.take(20)"
      ]
    },
    {
      "cell_type": "code",
      "execution_count": null,
      "metadata": {
        "colab": {
          "base_uri": "https://localhost:8080/"
        },
        "id": "h_0TrgpzKLkY",
        "outputId": "f4eae1e7-f78d-4512-8110-9df17da669e2"
      },
      "outputs": [
        {
          "name": "stdout",
          "output_type": "stream",
          "text": [
            "[('1', 1), ('2', 1), ('4', 1), ('3', 1), ('2', 1), ('5', 1), ('1', 1), ('6', 1), ('1', 1), ('6', 1), ('7', 1), ('8', 1), ('6', 1), ('10', 1), ('5', 1), ('3', 1), ('4', 1), ('9', 1), ('6', 1), ('1', 1)]\n"
          ]
        }
      ],
      "source": [
        "#4 Map\n",
        "rdd_map_p4 = p4_lines3.map(lambda value:(value, 1))\n",
        "print(rdd_map_p4.take(20))"
      ]
    },
    {
      "cell_type": "code",
      "execution_count": null,
      "metadata": {
        "colab": {
          "base_uri": "https://localhost:8080/"
        },
        "id": "5WwMta2BKPRc",
        "outputId": "5b780d1b-f8f3-4146-f45d-6ec685ec3437"
      },
      "outputs": [
        {
          "name": "stdout",
          "output_type": "stream",
          "text": [
            "<class 'pyspark.rdd.PipelinedRDD'>\n",
            "[('16', 583), ('17', 3190), ('5', 7059), ('15', 8294), ('10', 14375), ('11', 16606), ('13', 21972), ('7', 22864), ('9', 25797), ('8', 27128), ('12', 32129), ('14', 33865), ('3', 34932), ('4', 35188), ('2', 50125), ('6', 61971), ('1', 89639)]\n"
          ]
        }
      ],
      "source": [
        "#4 Reduce \n",
        "rdd_reduce_p4 = rdd_map_p4.reduceByKey(lambda x, y: x+y).sortBy(lambda r: r[1])\n",
        "print(type(rdd_reduce_p4))\n",
        "print(rdd_reduce_p4.take(20))\n",
        "rdd_p4_result = rdd_reduce_p4.collect()"
      ]
    },
    {
      "cell_type": "code",
      "execution_count": null,
      "metadata": {
        "colab": {
          "base_uri": "https://localhost:8080/"
        },
        "id": "8ysje7rsKSPg",
        "outputId": "e10cbdec-d682-4f3c-9983-3a84b5839990"
      },
      "outputs": [
        {
          "name": "stdout",
          "output_type": "stream",
          "text": [
            "Category with least amount of page hits by distinct users  = 16; with total hits of 583\n"
          ]
        }
      ],
      "source": [
        "#4 Result\n",
        "res = \"Category with least amount of page hits by distinct users  = \" + rdd_p4_result[0][0] + \"; with total hits of \" + str(rdd_p4_result[0][1])\n",
        "print(res)"
      ]
    },
    {
      "cell_type": "markdown",
      "metadata": {
        "id": "HviRhDtpHZZ1"
      },
      "source": [
        "## Part 2: Custom Queries"
      ]
    },
    {
      "cell_type": "markdown",
      "metadata": {
        "id": "vF8hz24PZ7Ox"
      },
      "source": [
        "**Query 1: Find highest visited category for each user**\n",
        "\n",
        "By: Mobassir Ahsan"
      ]
    },
    {
      "cell_type": "code",
      "execution_count": null,
      "metadata": {
        "colab": {
          "base_uri": "https://localhost:8080/"
        },
        "id": "vixrIdAEaD_W",
        "outputId": "2b845199-bc8a-400f-f52d-2590cb0b5558"
      },
      "outputs": [
        {
          "data": {
            "text/plain": [
              "[['1', '1'],\n",
              " ['2'],\n",
              " ['3', '2', '2', '4', '2', '2', '2', '3', '3'],\n",
              " ['5'],\n",
              " ['1'],\n",
              " ['6'],\n",
              " ['1', '1'],\n",
              " ['6'],\n",
              " ['6', '7', '7', '7', '6', '6', '8', '8', '8', '8'],\n",
              " ['6', '9', '4', '4', '4', '10', '3', '10', '5', '10', '4', '4', '4']]"
            ]
          },
          "execution_count": 64,
          "metadata": {},
          "output_type": "execute_result"
        }
      ],
      "source": [
        "q1_lines = lines.map(lambda value: value.split(\" \"))\n",
        "q1_lines = q1_lines.map(lambda value: value[:-1])\n",
        "q1_lines.take(10)"
      ]
    },
    {
      "cell_type": "code",
      "execution_count": null,
      "metadata": {
        "colab": {
          "base_uri": "https://localhost:8080/"
        },
        "id": "GQeAOXEHaNy5",
        "outputId": "e18dbeab-ee47-42ac-d1a8-904f28f581e3"
      },
      "outputs": [
        {
          "data": {
            "text/plain": [
              "[[('1 1', 1), ('1 1', 1)],\n",
              " [('2 2', 1)],\n",
              " [('3 3', 1),\n",
              "  ('3 2', 1),\n",
              "  ('3 2', 1),\n",
              "  ('3 4', 1),\n",
              "  ('3 2', 1),\n",
              "  ('3 2', 1),\n",
              "  ('3 2', 1),\n",
              "  ('3 3', 1),\n",
              "  ('3 3', 1)],\n",
              " [('4 5', 1)],\n",
              " [('5 1', 1)]]"
            ]
          },
          "execution_count": 65,
          "metadata": {},
          "output_type": "execute_result"
        }
      ],
      "source": [
        "q1_lines2 = q1_lines.zipWithIndex().map(lambda value : [(str(value[1]+1)+\" \"+str(i), 1) for i in value[0]])\n",
        "q1_lines2.take(5)"
      ]
    },
    {
      "cell_type": "code",
      "execution_count": null,
      "metadata": {
        "colab": {
          "base_uri": "https://localhost:8080/"
        },
        "id": "ZbcnUY6AaccY",
        "outputId": "b9648704-89af-4094-9ce2-3b6ca1416da5"
      },
      "outputs": [
        {
          "data": {
            "text/plain": [
              "[('1 1', 1),\n",
              " ('1 1', 1),\n",
              " ('2 2', 1),\n",
              " ('3 3', 1),\n",
              " ('3 2', 1),\n",
              " ('3 2', 1),\n",
              " ('3 4', 1),\n",
              " ('3 2', 1),\n",
              " ('3 2', 1),\n",
              " ('3 2', 1)]"
            ]
          },
          "execution_count": 66,
          "metadata": {},
          "output_type": "execute_result"
        }
      ],
      "source": [
        "q1_lines3 = q1_lines2.flatMap(lambda value: value)\n",
        "q1_lines3.take(10)"
      ]
    },
    {
      "cell_type": "code",
      "execution_count": null,
      "metadata": {
        "colab": {
          "base_uri": "https://localhost:8080/"
        },
        "id": "Ca9waH-ubdRz",
        "outputId": "dafc24f2-56b7-4c4d-9e09-8125c8433842"
      },
      "outputs": [
        {
          "data": {
            "text/plain": [
              "[('126651 1', 2935),\n",
              " ('350 10', 2026),\n",
              " ('350 14', 1357),\n",
              " ('126651 15', 1163),\n",
              " ('350 2', 1039),\n",
              " ('41809 12', 894),\n",
              " ('179995 15', 825),\n",
              " ('350 6', 712),\n",
              " ('223293 16', 557),\n",
              " ('35239 12', 537)]"
            ]
          },
          "execution_count": 67,
          "metadata": {},
          "output_type": "execute_result"
        }
      ],
      "source": [
        "rdd_reduce_q1 = q1_lines3.reduceByKey(lambda x, y: x+y).sortBy(lambda r: -r[1])\n",
        "rdd_reduce_q1.take(10)"
      ]
    },
    {
      "cell_type": "code",
      "execution_count": null,
      "metadata": {
        "colab": {
          "base_uri": "https://localhost:8080/"
        },
        "id": "540TrLm1bzGd",
        "outputId": "5c1a68a9-824e-4635-e18e-661382a2e66d"
      },
      "outputs": [
        {
          "data": {
            "text/plain": [
              "[('126651', '1 2935'),\n",
              " ('350', '10 2026'),\n",
              " ('350', '14 1357'),\n",
              " ('126651', '15 1163'),\n",
              " ('350', '2 1039'),\n",
              " ('41809', '12 894'),\n",
              " ('179995', '15 825'),\n",
              " ('350', '6 712'),\n",
              " ('223293', '16 557'),\n",
              " ('35239', '12 537')]"
            ]
          },
          "execution_count": 68,
          "metadata": {},
          "output_type": "execute_result"
        }
      ],
      "source": [
        "rdd_map2_q1 = rdd_reduce_q1.map(lambda value: (value[0].split(\" \")[0], str(value[0].split(\" \")[1])+\" \"+str(value[1])))\n",
        "rdd_map2_q1.take(10)"
      ]
    },
    {
      "cell_type": "code",
      "execution_count": null,
      "metadata": {
        "colab": {
          "base_uri": "https://localhost:8080/"
        },
        "id": "jMev8YfZdOMB",
        "outputId": "7c6776f7-11b6-45f8-c85e-f961e263eb85"
      },
      "outputs": [
        {
          "data": {
            "text/plain": [
              "[('126651', '1 2935'),\n",
              " ('179995', '15 825'),\n",
              " ('35239', '12 537'),\n",
              " ('6263', '5 322'),\n",
              " ('54459', '13 224'),\n",
              " ('29668', '16 3'),\n",
              " ('91374', '4 5'),\n",
              " ('158', '6 8'),\n",
              " ('224200', '1 9'),\n",
              " ('82170', '2 146')]"
            ]
          },
          "execution_count": 69,
          "metadata": {},
          "output_type": "execute_result"
        }
      ],
      "source": [
        "rdd_reduce2_q1 = rdd_map2_q1.reduceByKey(lambda x, y: x if (x.split(\" \")[1] > y.split(\" \")[1]) else y)\n",
        "rdd_reduce2_q1.take(10)"
      ]
    },
    {
      "cell_type": "code",
      "execution_count": null,
      "metadata": {
        "colab": {
          "base_uri": "https://localhost:8080/"
        },
        "id": "-PmEy8EwkIvM",
        "outputId": "8d9e05bb-2dc3-41d0-b9cd-cd3a8c37012c"
      },
      "outputs": [
        {
          "data": {
            "text/plain": [
              "[(1, 1, 2),\n",
              " (2, 2, 1),\n",
              " (3, 2, 5),\n",
              " (4, 5, 1),\n",
              " (5, 1, 1),\n",
              " (6, 6, 1),\n",
              " (7, 1, 2),\n",
              " (8, 6, 1),\n",
              " (9, 8, 4),\n",
              " (10, 4, 6),\n",
              " (11, 1, 6),\n",
              " (12, 12, 2),\n",
              " (13, 1, 2),\n",
              " (14, 8, 6),\n",
              " (15, 6, 1),\n",
              " (16, 2, 1),\n",
              " (17, 9, 1),\n",
              " (18, 3, 1),\n",
              " (19, 9, 1),\n",
              " (20, 3, 1)]"
            ]
          },
          "execution_count": 70,
          "metadata": {},
          "output_type": "execute_result"
        }
      ],
      "source": [
        "rdd_map3_q1 = rdd_reduce2_q1.map(lambda value: (int(value[0]), int(value[1].split(\" \")[0]), int(value[1].split(\" \")[1]))).sortBy(lambda r: r[0])\n",
        "rdd_map3_q1.take(20)"
      ]
    },
    {
      "cell_type": "markdown",
      "metadata": {
        "id": "fgweORLVHdz-"
      },
      "source": [
        "**Query 2: Find most active users and their total page visits**\n",
        "\n",
        "By: Farhana Islam Proma\n",
        "\n"
      ]
    },
    {
      "cell_type": "code",
      "execution_count": null,
      "metadata": {
        "colab": {
          "base_uri": "https://localhost:8080/"
        },
        "id": "eP9BLgXRH-bh",
        "outputId": "362e41e3-9f3c-443e-fb1f-f137e72e6809"
      },
      "outputs": [
        {
          "data": {
            "text/plain": [
              "[['1', '1'],\n",
              " ['2'],\n",
              " ['3', '2', '2', '4', '2', '2', '2', '3', '3'],\n",
              " ['5'],\n",
              " ['1'],\n",
              " ['6'],\n",
              " ['1', '1'],\n",
              " ['6'],\n",
              " ['6', '7', '7', '7', '6', '6', '8', '8', '8', '8'],\n",
              " ['6', '9', '4', '4', '4', '10', '3', '10', '5', '10', '4', '4', '4'],\n",
              " ['1', '1', '1', '11', '1', '1', '1'],\n",
              " ['12', '12'],\n",
              " ['1', '1'],\n",
              " ['8', '8', '8', '8', '8', '8'],\n",
              " ['6'],\n",
              " ['2'],\n",
              " ['9', '12'],\n",
              " ['3'],\n",
              " ['9'],\n",
              " ['3']]"
            ]
          },
          "execution_count": 34,
          "metadata": {},
          "output_type": "execute_result"
        }
      ],
      "source": [
        "q2_lines = lines.map(lambda value: value.split(\" \"))\n",
        "q2_lines = q2_lines.map(lambda value: value[:-1])\n",
        "q2_lines.take(20)"
      ]
    },
    {
      "cell_type": "code",
      "execution_count": null,
      "metadata": {
        "colab": {
          "base_uri": "https://localhost:8080/"
        },
        "id": "32imwI3rLFwc",
        "outputId": "0d3467d5-b60c-43dc-eda4-6575b5f9fb1d"
      },
      "outputs": [
        {
          "data": {
            "text/plain": [
              "[[(1, 1), (1, 1)],\n",
              " [(2, 1)],\n",
              " [(3, 1), (3, 1), (3, 1), (3, 1), (3, 1), (3, 1), (3, 1), (3, 1), (3, 1)],\n",
              " [(4, 1)],\n",
              " [(5, 1)]]"
            ]
          },
          "execution_count": 35,
          "metadata": {},
          "output_type": "execute_result"
        }
      ],
      "source": [
        "q2_lines2 = q2_lines.zipWithIndex().map(lambda value : [(value[1]+1, 1) for i in value[0]])\n",
        "q2_lines2.take(5)"
      ]
    },
    {
      "cell_type": "code",
      "execution_count": null,
      "metadata": {
        "colab": {
          "base_uri": "https://localhost:8080/"
        },
        "id": "IH3hKAz6LFmh",
        "outputId": "9686bfbc-c7cb-4c0e-d864-1de79acb4a5f"
      },
      "outputs": [
        {
          "data": {
            "text/plain": [
              "[(1, 1),\n",
              " (1, 1),\n",
              " (2, 1),\n",
              " (3, 1),\n",
              " (3, 1),\n",
              " (3, 1),\n",
              " (3, 1),\n",
              " (3, 1),\n",
              " (3, 1),\n",
              " (3, 1),\n",
              " (3, 1),\n",
              " (3, 1),\n",
              " (4, 1),\n",
              " (5, 1),\n",
              " (6, 1),\n",
              " (7, 1),\n",
              " (7, 1),\n",
              " (8, 1),\n",
              " (9, 1),\n",
              " (9, 1)]"
            ]
          },
          "execution_count": 36,
          "metadata": {},
          "output_type": "execute_result"
        }
      ],
      "source": [
        "q2_lines3 = q2_lines2.flatMap(lambda value: value)\n",
        "q2_lines3.take(20)"
      ]
    },
    {
      "cell_type": "code",
      "execution_count": null,
      "metadata": {
        "colab": {
          "base_uri": "https://localhost:8080/"
        },
        "id": "gx7mcqsaLFfX",
        "outputId": "f7830b94-de06-4d1a-f941-1459a0bc9734"
      },
      "outputs": [
        {
          "data": {
            "text/plain": [
              "[(350, 7033),\n",
              " (126651, 4098),\n",
              " (155331, 1922),\n",
              " (227854, 1714),\n",
              " (217514, 1020),\n",
              " (17647, 952),\n",
              " (41809, 894),\n",
              " (179995, 825),\n",
              " (158480, 629),\n",
              " (79079, 593),\n",
              " (223293, 557),\n",
              " (35239, 540),\n",
              " (207737, 458),\n",
              " (9088, 457),\n",
              " (122984, 444),\n",
              " (45705, 435),\n",
              " (77410, 393),\n",
              " (273216, 372),\n",
              " (240115, 362),\n",
              " (277442, 359)]"
            ]
          },
          "execution_count": 37,
          "metadata": {},
          "output_type": "execute_result"
        }
      ],
      "source": [
        "# Most active users and their total page visits \n",
        "reduce_q2 = q2_lines3.reduceByKey(lambda x, y: x+y).sortBy(lambda r: -r[1])\n",
        "reduce_q2.take(20)"
      ]
    },
    {
      "cell_type": "markdown",
      "metadata": {
        "id": "ePkWK1C_7RhX"
      },
      "source": [
        "**Query 3: Find each users' average number of hits**\n",
        "\n",
        "\n",
        "By: Mahfuza Yousuf"
      ]
    },
    {
      "cell_type": "code",
      "execution_count": null,
      "metadata": {
        "colab": {
          "base_uri": "https://localhost:8080/"
        },
        "id": "Fa1egWwA7cl2",
        "outputId": "25563442-4030-4ac3-fdad-79f8810b117b"
      },
      "outputs": [
        {
          "data": {
            "text/plain": [
              "[['1', '1'],\n",
              " ['2'],\n",
              " ['3', '2', '2', '4', '2', '2', '2', '3', '3'],\n",
              " ['5'],\n",
              " ['1'],\n",
              " ['6'],\n",
              " ['1', '1'],\n",
              " ['6'],\n",
              " ['6', '7', '7', '7', '6', '6', '8', '8', '8', '8'],\n",
              " ['6', '9', '4', '4', '4', '10', '3', '10', '5', '10', '4', '4', '4'],\n",
              " ['1', '1', '1', '11', '1', '1', '1'],\n",
              " ['12', '12'],\n",
              " ['1', '1'],\n",
              " ['8', '8', '8', '8', '8', '8'],\n",
              " ['6'],\n",
              " ['2'],\n",
              " ['9', '12'],\n",
              " ['3'],\n",
              " ['9'],\n",
              " ['3']]"
            ]
          },
          "execution_count": 39,
          "metadata": {},
          "output_type": "execute_result"
        }
      ],
      "source": [
        "q3_lines = lines.map(lambda value: value.split(\" \"))\n",
        "q3_lines = q3_lines.map(lambda value: value[:-1])\n",
        "q3_lines.take(20)"
      ]
    },
    {
      "cell_type": "code",
      "execution_count": null,
      "metadata": {
        "colab": {
          "base_uri": "https://localhost:8080/"
        },
        "id": "AEir9Gy2DbK_",
        "outputId": "d361ad51-3565-4c19-b181-3f095377032f"
      },
      "outputs": [
        {
          "data": {
            "text/plain": [
              "['1', '1', '2', '3', '2']"
            ]
          },
          "execution_count": 40,
          "metadata": {},
          "output_type": "execute_result"
        }
      ],
      "source": [
        "q3_lines_map1 = q3_lines.flatMap(lambda value: value)\n",
        "q3_lines_map1.take(5)"
      ]
    },
    {
      "cell_type": "code",
      "execution_count": null,
      "metadata": {
        "colab": {
          "base_uri": "https://localhost:8080/"
        },
        "id": "vczK3WZEDras",
        "outputId": "d1de8e81-3048-4309-cf08-a122051c2922"
      },
      "outputs": [
        {
          "data": {
            "text/plain": [
              "[('1', 1), ('1', 1), ('2', 1), ('3', 1), ('2', 1)]"
            ]
          },
          "execution_count": 41,
          "metadata": {},
          "output_type": "execute_result"
        }
      ],
      "source": [
        "q3_lines_map2 = q3_lines_map1.map(lambda value: (value, 1))\n",
        "q3_lines_map2.take(5)"
      ]
    },
    {
      "cell_type": "code",
      "execution_count": null,
      "metadata": {
        "colab": {
          "base_uri": "https://localhost:8080/"
        },
        "id": "6zy2vfHdEApD",
        "outputId": "22b15d95-246a-4da0-af62-fa46b76dc5ba"
      },
      "outputs": [
        {
          "data": {
            "text/plain": [
              "[('4', 110369), ('10', 36974), ('12', 77357), ('16', 6821), ('3', 58355)]"
            ]
          },
          "execution_count": 42,
          "metadata": {},
          "output_type": "execute_result"
        }
      ],
      "source": [
        "q3_lines_reduce = q3_lines_map2.reduceByKey(lambda x, y: x+y)\n",
        "q3_lines_reduce.take(5)"
      ]
    },
    {
      "cell_type": "code",
      "execution_count": null,
      "metadata": {
        "colab": {
          "base_uri": "https://localhost:8080/"
        },
        "id": "8jN853m9HS0l",
        "outputId": "83ff09d8-1479-47bf-bdf9-b093b8a8c307"
      },
      "outputs": [
        {
          "data": {
            "text/plain": [
              "[110369, 36974, 77357, 6821, 58355]"
            ]
          },
          "execution_count": 43,
          "metadata": {},
          "output_type": "execute_result"
        }
      ],
      "source": [
        "q3_lines_map3 = q3_lines_reduce.map(lambda value: value[1])\n",
        "q3_lines_map3.take(5)"
      ]
    },
    {
      "cell_type": "code",
      "execution_count": null,
      "metadata": {
        "colab": {
          "base_uri": "https://localhost:8080/"
        },
        "id": "D_RH_o-7HSvq",
        "outputId": "e001205c-128c-494b-ead5-cabdaafe8fcc"
      },
      "outputs": [
        {
          "data": {
            "text/plain": [
              "1342464"
            ]
          },
          "execution_count": 44,
          "metadata": {},
          "output_type": "execute_result"
        }
      ],
      "source": [
        "q3_lines_reduce2 = q3_lines_map3.reduce(lambda x, y: x+y)\n",
        "q3_lines_reduce2"
      ]
    },
    {
      "cell_type": "code",
      "execution_count": null,
      "metadata": {
        "id": "xRwYCgWSHSoU"
      },
      "outputs": [],
      "source": [
        "avg = q3_lines_reduce2/len(lines.collect())"
      ]
    },
    {
      "cell_type": "code",
      "execution_count": null,
      "metadata": {
        "colab": {
          "base_uri": "https://localhost:8080/"
        },
        "id": "merJfNdLIWyD",
        "outputId": "32e16c8f-4f3e-422f-e7ca-7a8e3ba3fca2"
      },
      "outputs": [
        {
          "data": {
            "text/plain": [
              "4.746959919379077"
            ]
          },
          "execution_count": 46,
          "metadata": {},
          "output_type": "execute_result"
        }
      ],
      "source": [
        "avg"
      ]
    },
    {
      "cell_type": "markdown",
      "metadata": {
        "id": "jlCrK26sJ-S0"
      },
      "source": [
        "\n",
        "\n",
        "**Saifur: Find users which only hit a single category of pages**"
      ]
    },
    {
      "cell_type": "code",
      "execution_count": null,
      "metadata": {
        "colab": {
          "base_uri": "https://localhost:8080/"
        },
        "id": "E6Z88ue7WBXt",
        "outputId": "53562885-541c-4e64-9347-0e242c548058"
      },
      "outputs": [
        {
          "data": {
            "text/plain": [
              "[['1', '1'],\n",
              " ['2'],\n",
              " ['3', '2', '2', '4', '2', '2', '2', '3', '3'],\n",
              " ['5'],\n",
              " ['1'],\n",
              " ['6'],\n",
              " ['1', '1'],\n",
              " ['6'],\n",
              " ['6', '7', '7', '7', '6', '6', '8', '8', '8', '8'],\n",
              " ['6', '9', '4', '4', '4', '10', '3', '10', '5', '10', '4', '4', '4'],\n",
              " ['1', '1', '1', '11', '1', '1', '1'],\n",
              " ['12', '12'],\n",
              " ['1', '1'],\n",
              " ['8', '8', '8', '8', '8', '8'],\n",
              " ['6'],\n",
              " ['2'],\n",
              " ['9', '12'],\n",
              " ['3'],\n",
              " ['9'],\n",
              " ['3']]"
            ]
          },
          "execution_count": 29,
          "metadata": {},
          "output_type": "execute_result"
        }
      ],
      "source": [
        "q4_lines = lines.map(lambda value: value.split(\" \"))\n",
        "q4_lines = q4_lines.map(lambda value: value[:-1])\n",
        "q4_lines.take(20)"
      ]
    },
    {
      "cell_type": "code",
      "execution_count": null,
      "metadata": {
        "colab": {
          "base_uri": "https://localhost:8080/"
        },
        "id": "B0rrwOFyQOcW",
        "outputId": "450201de-1920-4277-8113-911d75fe2cb0"
      },
      "outputs": [
        {
          "data": {
            "text/plain": [
              "[{'1'}, {'2'}, {'2', '3', '4'}, {'5'}, {'1'}]"
            ]
          },
          "execution_count": 30,
          "metadata": {},
          "output_type": "execute_result"
        }
      ],
      "source": [
        "q4_lines2 = q4_lines.map(lambda value: set(value))\n",
        "q4_lines2.take(5)"
      ]
    },
    {
      "cell_type": "code",
      "execution_count": null,
      "metadata": {
        "colab": {
          "base_uri": "https://localhost:8080/"
        },
        "id": "F2HzTkMyPUVy",
        "outputId": "33dc23da-0061-41f8-a9fc-094479a5b807"
      },
      "outputs": [
        {
          "data": {
            "text/plain": [
              "[(1, {'1'}),\n",
              " (2, {'2'}),\n",
              " (3, {'2', '3', '4'}),\n",
              " (4, {'5'}),\n",
              " (5, {'1'}),\n",
              " (6, {'6'}),\n",
              " (7, {'1'}),\n",
              " (8, {'6'}),\n",
              " (9, {'6', '7', '8'}),\n",
              " (10, {'10', '3', '4', '5', '6', '9'})]"
            ]
          },
          "execution_count": 31,
          "metadata": {},
          "output_type": "execute_result"
        }
      ],
      "source": [
        "q4_lines3 = q4_lines2.zipWithIndex().map(lambda value : (value[1]+1, value[0]))\n",
        "q4_lines3.take(10)"
      ]
    },
    {
      "cell_type": "code",
      "execution_count": null,
      "metadata": {
        "colab": {
          "base_uri": "https://localhost:8080/"
        },
        "id": "EK05SAA1Q06R",
        "outputId": "39e05a96-f6bb-4766-b088-76d26dc01e0e"
      },
      "outputs": [
        {
          "data": {
            "text/plain": [
              "[(1, {'1'}),\n",
              " (2, {'2'}),\n",
              " (4, {'5'}),\n",
              " (5, {'1'}),\n",
              " (6, {'6'}),\n",
              " (7, {'1'}),\n",
              " (8, {'6'}),\n",
              " (12, {'12'}),\n",
              " (13, {'1'}),\n",
              " (14, {'8'})]"
            ]
          },
          "execution_count": 32,
          "metadata": {},
          "output_type": "execute_result"
        }
      ],
      "source": [
        "q4_lines4 = q4_lines3.filter(lambda x: len(x[1])==1)\n",
        "q4_lines4.take(10)"
      ]
    },
    {
      "cell_type": "code",
      "execution_count": null,
      "metadata": {
        "id": "5C_E6mhcQ-6e"
      },
      "outputs": [],
      "source": [
        "q4_lines5 = q4_lines4.map(lambda value: (value[0], value[1].pop()))"
      ]
    },
    {
      "cell_type": "code",
      "execution_count": null,
      "metadata": {
        "colab": {
          "base_uri": "https://localhost:8080/"
        },
        "id": "6yWCpQdURVSZ",
        "outputId": "08bc8dff-f085-4bab-b972-684180d126ff"
      },
      "outputs": [
        {
          "data": {
            "text/plain": [
              "[(1, '1'),\n",
              " (2, '2'),\n",
              " (4, '5'),\n",
              " (5, '1'),\n",
              " (6, '6'),\n",
              " (7, '1'),\n",
              " (8, '6'),\n",
              " (12, '12'),\n",
              " (13, '1'),\n",
              " (14, '8'),\n",
              " (15, '6'),\n",
              " (16, '2'),\n",
              " (18, '3'),\n",
              " (19, '9'),\n",
              " (20, '3'),\n",
              " (21, '12'),\n",
              " (22, '5'),\n",
              " (23, '13'),\n",
              " (26, '12'),\n",
              " (27, '1')]"
            ]
          },
          "execution_count": 34,
          "metadata": {},
          "output_type": "execute_result"
        }
      ],
      "source": [
        "q4_lines5.take(20)"
      ]
    },
    {
      "cell_type": "markdown",
      "metadata": {
        "id": "VTtyfkK7KZgA"
      },
      "source": [
        "* Which user has hit a certain page category the maximum number of times\n",
        "* Find users which only hit a single category of pages \n",
        "* Count which catagory has been hit by how many users\n",
        "* Which user has the highest number of page visits \n",
        "* Find the frequent users of the site and find which category attracks the most active users. \n",
        "* Find highest visited category for each user.\n",
        "* sequence is availavble or not in the per user's page hits\n",
        "* **average user for per query**"
      ]
    },
    {
      "cell_type": "code",
      "execution_count": null,
      "metadata": {
        "colab": {
          "base_uri": "https://localhost:8080/",
          "height": 1000
        },
        "id": "wN5whooMtuvS",
        "outputId": "e27ada59-ca94-4819-8498-f21666c238d1"
      },
      "outputs": [
        {
          "data": {
            "image/png": "[encoded data removed]",
            "text/plain": [
              "<Figure size 1440x1440 with 1 Axes>"
            ]
          },
          "metadata": {},
          "output_type": "display_data"
        }
      ],
      "source": [
        "xpoints = np.array([1, 2, 3, 4, 5, 6,7,8,9,10,11,12,13,14,15,16,17])\n",
        "ypoints = np.array([267801, 128589, 58355, 110369, 42885, 118919, 86376, 125523, 56656, 36974, 27989, 77357, 61567, 113040, 18343, 6821, 4900])\n",
        "plt.figure(figsize=(20,20))\n",
        "plt.xlabel(\"Categories\")\n",
        "plt.ylabel(\"No of hits\")\n",
        "plt.xticks(xpoints)\n",
        "plt.bar(xpoints, ypoints, width=0.5, color= 'green')\n",
        "plt.show()"
      ]
    },
    {
      "cell_type": "markdown",
      "metadata": {
        "id": "iEP0Bo3--lGL"
      },
      "source": [
        "## Application:\n",
        "# Collaborative Recommender System"
      ]
    },
    {
      "cell_type": "code",
      "execution_count": null,
      "metadata": {
        "id": "ePGYK9BU-oVf"
      },
      "outputs": [],
      "source": [
        ""
      ]
    },
    {
      "cell_type": "markdown",
      "metadata": {
        "id": "2CVx7aKDSACj"
      },
      "source": [
        "* https://spark.apache.org/docs/latest/ml-frequent-pattern-mining.html\n",
        "* https://spark.apache.org/docs/latest/ml-collaborative-filtering.html\n",
        "* https://spark.apache.org/docs/latest/api/python/reference/api/pyspark.ml.fpm.PrefixSpan"
      ]
    },
    {
      "cell_type": "code",
      "execution_count": null,
      "metadata": {
        "id": "o2dmA9WyPP-S"
      },
      "outputs": [],
      "source": [
        "from pyspark.ml.evaluation import RegressionEvaluator\n",
        "from pyspark.ml.recommendation import ALS\n",
        "from pyspark.sql import Row"
      ]
    },
    {
      "cell_type": "markdown",
      "metadata": {
        "id": "coIZOsHPoDXz"
      },
      "source": [
        " ### ALS "
      ]
    },
    {
      "cell_type": "code",
      "execution_count": null,
      "metadata": {
        "colab": {
          "base_uri": "https://localhost:8080/"
        },
        "id": "1wsowV4ePA6G",
        "outputId": "a28decee-58bf-42a5-918b-aec1b6a7414b"
      },
      "outputs": [
        {
          "output_type": "stream",
          "name": "stdout",
          "text": [
            "<class 'pyspark.rdd.RDD'>\n"
          ]
        }
      ],
      "source": [
        "# Read datafile\n",
        "\n",
        "lines = sc.textFile(\"msnbc990928.seq\")\n",
        "print(type(lines))\n",
        "# print(lines.collect())"
      ]
    },
    {
      "cell_type": "code",
      "execution_count": null,
      "metadata": {
        "colab": {
          "base_uri": "https://localhost:8080/"
        },
        "id": "55FrxcIFuo56",
        "outputId": "5eb7672c-e9c4-49c6-d513-a9a61da58599"
      },
      "outputs": [
        {
          "output_type": "execute_result",
          "data": {
            "text/plain": [
              "[['1', '1'],\n",
              " ['2'],\n",
              " ['3', '2', '2', '4', '2', '2', '2', '3', '3'],\n",
              " ['5'],\n",
              " ['1'],\n",
              " ['6'],\n",
              " ['1', '1'],\n",
              " ['6'],\n",
              " ['6', '7', '7', '7', '6', '6', '8', '8', '8', '8'],\n",
              " ['6', '9', '4', '4', '4', '10', '3', '10', '5', '10', '4', '4', '4']]"
            ]
          },
          "metadata": {},
          "execution_count": 10
        }
      ],
      "source": [
        "als_lines = lines.map(lambda value: value.split(\" \"))\n",
        "als_lines = als_lines.map(lambda value: value[:-1])\n",
        "als_lines.take(10)"
      ]
    },
    {
      "cell_type": "code",
      "execution_count": null,
      "metadata": {
        "colab": {
          "base_uri": "https://localhost:8080/"
        },
        "id": "AsA5mgKuuo57",
        "outputId": "f3827f52-f6c2-4d55-dcef-73ccda3933e8"
      },
      "outputs": [
        {
          "output_type": "execute_result",
          "data": {
            "text/plain": [
              "[[('1 1', 1), ('1 1', 1)],\n",
              " [('2 2', 1)],\n",
              " [('3 3', 1),\n",
              "  ('3 2', 1),\n",
              "  ('3 2', 1),\n",
              "  ('3 4', 1),\n",
              "  ('3 2', 1),\n",
              "  ('3 2', 1),\n",
              "  ('3 2', 1),\n",
              "  ('3 3', 1),\n",
              "  ('3 3', 1)],\n",
              " [('4 5', 1)],\n",
              " [('5 1', 1)]]"
            ]
          },
          "metadata": {},
          "execution_count": 11
        }
      ],
      "source": [
        "als_lines2 = als_lines.zipWithIndex().map(lambda value : [(str(value[1]+1)+\" \"+str(i), 1) for i in value[0]])\n",
        "als_lines2.take(5)"
      ]
    },
    {
      "cell_type": "code",
      "execution_count": null,
      "metadata": {
        "colab": {
          "base_uri": "https://localhost:8080/"
        },
        "id": "42RKUP-Muo57",
        "outputId": "ad87af03-b014-462f-850a-d3f8ea619b69"
      },
      "outputs": [
        {
          "output_type": "execute_result",
          "data": {
            "text/plain": [
              "[('1 1', 1),\n",
              " ('1 1', 1),\n",
              " ('2 2', 1),\n",
              " ('3 3', 1),\n",
              " ('3 2', 1),\n",
              " ('3 2', 1),\n",
              " ('3 4', 1),\n",
              " ('3 2', 1),\n",
              " ('3 2', 1),\n",
              " ('3 2', 1)]"
            ]
          },
          "metadata": {},
          "execution_count": 12
        }
      ],
      "source": [
        "als_lines3 = als_lines2.flatMap(lambda value: value)\n",
        "als_lines3.take(10)"
      ]
    },
    {
      "cell_type": "code",
      "execution_count": null,
      "metadata": {
        "colab": {
          "base_uri": "https://localhost:8080/"
        },
        "id": "8gDCytF4uo58",
        "outputId": "b7d65bf0-5daa-468d-cf38-24b2a06db0e9"
      },
      "outputs": [
        {
          "output_type": "execute_result",
          "data": {
            "text/plain": [
              "[('1 1', 2),\n",
              " ('3 3', 3),\n",
              " ('4 5', 1),\n",
              " ('5 1', 1),\n",
              " ('9 7', 3),\n",
              " ('10 6', 1),\n",
              " ('10 3', 1),\n",
              " ('10 5', 1),\n",
              " ('11 1', 6),\n",
              " ('11 11', 1)]"
            ]
          },
          "metadata": {},
          "execution_count": 13
        }
      ],
      "source": [
        "rdd_reduce_als = als_lines3.reduceByKey(lambda x, y: x+y)\n",
        "rdd_reduce_als.take(10)"
      ]
    },
    {
      "cell_type": "code",
      "execution_count": null,
      "metadata": {
        "colab": {
          "base_uri": "https://localhost:8080/"
        },
        "id": "Qyi_0uRjuo59",
        "outputId": "8fc644bb-15b2-4ba0-fc0b-6ee2301fac7e"
      },
      "outputs": [
        {
          "output_type": "execute_result",
          "data": {
            "text/plain": [
              "[(1, 1, 2),\n",
              " (2, 2, 1),\n",
              " (3, 3, 3),\n",
              " (3, 2, 5),\n",
              " (3, 4, 1),\n",
              " (4, 5, 1),\n",
              " (5, 1, 1),\n",
              " (6, 6, 1),\n",
              " (7, 1, 2),\n",
              " (8, 6, 1)]"
            ]
          },
          "metadata": {},
          "execution_count": 14
        }
      ],
      "source": [
        "rdd_map3_als = rdd_reduce_als.map(lambda value: (int(value[0].split(\" \")[0]), int(value[0].split(\" \")[1]), int(value[1]))).sortBy(lambda r: r[0])\n",
        "rdd_map3_als.take(10)"
      ]
    },
    {
      "cell_type": "code",
      "execution_count": null,
      "metadata": {
        "colab": {
          "base_uri": "https://localhost:8080/"
        },
        "id": "_nZ90hLIn7XC",
        "outputId": "36bc4b84-762b-46da-f670-487adb34f2df"
      },
      "outputs": [
        {
          "output_type": "execute_result",
          "data": {
            "text/plain": [
              "[Row(userId=1, category=1, freq=2),\n",
              " Row(userId=2, category=2, freq=1),\n",
              " Row(userId=3, category=3, freq=3),\n",
              " Row(userId=3, category=2, freq=5),\n",
              " Row(userId=3, category=4, freq=1),\n",
              " Row(userId=4, category=5, freq=1),\n",
              " Row(userId=5, category=1, freq=1),\n",
              " Row(userId=6, category=6, freq=1),\n",
              " Row(userId=7, category=1, freq=2),\n",
              " Row(userId=8, category=6, freq=1)]"
            ]
          },
          "metadata": {},
          "execution_count": 15
        }
      ],
      "source": [
        "rdd_map4_als = rdd_map3_als.map(lambda value: Row(userId=value[0],category=value[1], freq=value[2]))\n",
        "rdd_map4_als.take(10)"
      ]
    },
    {
      "cell_type": "code",
      "execution_count": null,
      "metadata": {
        "id": "6Rsedy4Cn7Vf"
      },
      "outputs": [],
      "source": [
        "ALS_df = rdd_map4_als.toDF()"
      ]
    },
    {
      "cell_type": "code",
      "execution_count": null,
      "metadata": {
        "colab": {
          "base_uri": "https://localhost:8080/"
        },
        "id": "fwJUUjGBwgmn",
        "outputId": "c5cd2715-81a0-406a-ad07-da7b2ddc59c2"
      },
      "outputs": [
        {
          "output_type": "stream",
          "name": "stdout",
          "text": [
            "+------+--------+----+\n",
            "|userId|category|freq|\n",
            "+------+--------+----+\n",
            "|     1|       1|   2|\n",
            "|     2|       2|   1|\n",
            "|     3|       3|   3|\n",
            "|     3|       2|   5|\n",
            "|     3|       4|   1|\n",
            "|     4|       5|   1|\n",
            "|     5|       1|   1|\n",
            "|     6|       6|   1|\n",
            "|     7|       1|   2|\n",
            "|     8|       6|   1|\n",
            "|     9|       7|   3|\n",
            "|     9|       6|   3|\n",
            "|     9|       8|   4|\n",
            "|    10|       6|   1|\n",
            "|    10|       3|   1|\n",
            "|    10|       5|   1|\n",
            "|    10|       9|   1|\n",
            "|    10|       4|   6|\n",
            "|    10|      10|   3|\n",
            "|    11|       1|   6|\n",
            "+------+--------+----+\n",
            "only showing top 20 rows\n",
            "\n"
          ]
        }
      ],
      "source": [
        "ALS_df.show()"
      ]
    },
    {
      "cell_type": "code",
      "execution_count": null,
      "metadata": {
        "id": "QpHzwVpAwwjZ"
      },
      "outputs": [],
      "source": [
        "from pyspark.ml.evaluation import RegressionEvaluator\n",
        "from pyspark.ml.recommendation import ALS"
      ]
    },
    {
      "cell_type": "code",
      "execution_count": null,
      "metadata": {
        "id": "V-1fprpDxAnP"
      },
      "outputs": [],
      "source": [
        "(training, test) = ALS_df.randomSplit([0.8, 0.2])\n"
      ]
    },
    {
      "cell_type": "code",
      "execution_count": null,
      "metadata": {
        "id": "dkUMSN1-xMiK"
      },
      "outputs": [],
      "source": [
        "als = ALS(maxIter = 20, regParam = 0.01, userCol = \"userId\", itemCol = \"category\", ratingCol = \"freq\", coldStartStrategy=\"drop\")\n",
        "model = als.fit(ALS_df)"
      ]
    },
    {
      "cell_type": "code",
      "execution_count": null,
      "metadata": {
        "colab": {
          "base_uri": "https://localhost:8080/"
        },
        "id": "EgMvSLFexPh3",
        "outputId": "be15d4b5-59fd-44bc-85eb-e59fef20e46f"
      },
      "outputs": [
        {
          "output_type": "stream",
          "name": "stdout",
          "text": [
            "+------+--------+----+----------+\n",
            "|userId|category|freq|prediction|\n",
            "+------+--------+----+----------+\n",
            "|    53|       1|   2| 1.9466476|\n",
            "|    65|       1|   1| 0.9859009|\n",
            "|    78|       1|   6|  5.524321|\n",
            "|   108|       1|   2| 1.9718018|\n",
            "|   222|       1|   1| 0.9859009|\n",
            "|   285|       1|   1|0.97744703|\n",
            "|   291|       1|   2| 1.9219663|\n",
            "|   305|       1|   2| 1.9452293|\n",
            "|   363|       1|   1| 0.9859009|\n",
            "|   625|       1|   2| 1.9718018|\n",
            "|   772|       1|   3| 2.9175038|\n",
            "|   833|       1|   1| 0.9738533|\n",
            "|   844|       1|   1| 0.9729037|\n",
            "|   857|       1|   1| 1.1926606|\n",
            "|   861|       1|   1| 0.9859009|\n",
            "|   976|       1|   1| 0.9859009|\n",
            "|  1016|       1|   1| 0.9747075|\n",
            "|  1047|       1|   2| 1.9462285|\n",
            "|  1064|       1|   3| 2.9577029|\n",
            "|  1127|       1|   2| 1.9718018|\n",
            "+------+--------+----+----------+\n",
            "only showing top 20 rows\n",
            "\n"
          ]
        }
      ],
      "source": [
        "predictions = model.transform(test)\n",
        "predictions.show()"
      ]
    },
    {
      "cell_type": "code",
      "execution_count": null,
      "metadata": {
        "colab": {
          "base_uri": "https://localhost:8080/"
        },
        "id": "fPba3rB4xefP",
        "outputId": "ae0da036-2907-474f-ca6f-48fa68f95d95"
      },
      "outputs": [
        {
          "output_type": "stream",
          "name": "stdout",
          "text": [
            "RMSE:  0.35226900107926434\n"
          ]
        }
      ],
      "source": [
        "evaluator = RegressionEvaluator(metricName = \"rmse\", labelCol = \"freq\", predictionCol = \"prediction\")\n",
        "rmse = evaluator.evaluate(predictions)\n",
        "print(\"RMSE: \", rmse)"
      ]
    },
    {
      "cell_type": "code",
      "execution_count": null,
      "metadata": {
        "id": "OZAFKpUxxh0X",
        "colab": {
          "base_uri": "https://localhost:8080/"
        },
        "outputId": "c9514795-9e00-42d9-c2a6-200ef989eb25"
      },
      "outputs": [
        {
          "output_type": "stream",
          "name": "stderr",
          "text": [
            "/usr/local/lib/python3.7/dist-packages/pyspark/sql/context.py:127: FutureWarning: Deprecated in 3.0.0. Use SparkSession.builder.getOrCreate() instead.\n",
            "  FutureWarning\n"
          ]
        },
        {
          "output_type": "stream",
          "name": "stdout",
          "text": [
            "+------+--------------------+\n",
            "|userId|     recommendations|\n",
            "+------+--------------------+\n",
            "|     1|[{1, 1.9718018}, ...|\n",
            "|    12|[{16, 4.3525624},...|\n",
            "|    13|[{1, 1.9718018}, ...|\n",
            "|    22|[{5, 0.9956304}, ...|\n",
            "|    26|[{16, 2.1762812},...|\n",
            "|    27|[{1, 0.9859009}, ...|\n",
            "|    28|[{16, 7.5506897},...|\n",
            "|    31|[{14, 0.9980006},...|\n",
            "|    34|[{6, 0.99365234},...|\n",
            "|    44|[{16, 5.9571395},...|\n",
            "|    47|[{5, 0.9956304}, ...|\n",
            "|    52|[{16, 8.93571}, {...|\n",
            "|    53|[{1, 1.9466476}, ...|\n",
            "|    65|[{1, 0.9859009}, ...|\n",
            "|    76|[{6, 1.9756972}, ...|\n",
            "|    78|[{1, 5.524321}, {...|\n",
            "|    81|[{2, 1.9785767}, ...|\n",
            "|    85|[{10, 5.9581823},...|\n",
            "|    91|[{6, 0.99365234},...|\n",
            "|    93|[{8, 1.9795011}, ...|\n",
            "+------+--------------------+\n",
            "only showing top 20 rows\n",
            "\n"
          ]
        }
      ],
      "source": [
        "userRecs = model.recommendForAllUsers(5)\n",
        "userRecs.show()"
      ]
    },
    {
      "cell_type": "code",
      "execution_count": null,
      "metadata": {
        "colab": {
          "base_uri": "https://localhost:8080/"
        },
        "id": "_CnZCrJRyeW7",
        "outputId": "8d5b9aac-186d-46ef-c580-6e998f46ac42"
      },
      "outputs": [
        {
          "output_type": "execute_result",
          "data": {
            "text/plain": [
              "[Row(category=16, rating=15.637073516845703),\n",
              " Row(category=2, rating=4.964696407318115),\n",
              " Row(category=10, rating=3.5372703075408936),\n",
              " Row(category=3, rating=2.882596492767334),\n",
              " Row(category=9, rating=1.787173867225647)]"
            ]
          },
          "metadata": {},
          "execution_count": 29
        }
      ],
      "source": [
        "userRecs.where('userId=3').collect()[0][1]"
      ]
    },
    {
      "cell_type": "code",
      "execution_count": null,
      "metadata": {
        "id": "ThPGjQr9VTG8",
        "colab": {
          "base_uri": "https://localhost:8080/"
        },
        "outputId": "838ecbcc-6e3e-41eb-88ff-9feb52eaca1a"
      },
      "outputs": [
        {
          "output_type": "stream",
          "name": "stderr",
          "text": [
            "/usr/local/lib/python3.7/dist-packages/pyspark/sql/context.py:127: FutureWarning: Deprecated in 3.0.0. Use SparkSession.builder.getOrCreate() instead.\n",
            "  FutureWarning\n"
          ]
        }
      ],
      "source": [
        "testRecs = model.recommendForUserSubset(test, 5)"
      ]
    },
    {
      "cell_type": "code",
      "source": [
        "testRecs.show()"
      ],
      "metadata": {
        "colab": {
          "base_uri": "https://localhost:8080/"
        },
        "id": "TTph03dCdd9n",
        "outputId": "d16e3127-411b-44d0-af30-8cafc70f160c"
      },
      "execution_count": null,
      "outputs": [
        {
          "output_type": "stream",
          "name": "stdout",
          "text": [
            "+------+--------------------+\n",
            "|userId|     recommendations|\n",
            "+------+--------------------+\n",
            "|    44|[{16, 5.9571395},...|\n",
            "|    47|[{5, 0.9956304}, ...|\n",
            "|    53|[{1, 1.9466476}, ...|\n",
            "|    65|[{1, 0.9859009}, ...|\n",
            "|    78|[{1, 5.524321}, {...|\n",
            "|    93|[{8, 1.9795011}, ...|\n",
            "|   103|[{16, 16.492706},...|\n",
            "|   108|[{1, 1.9718018}, ...|\n",
            "|   111|[{16, 6.528843}, ...|\n",
            "|   128|[{14, 0.9980006},...|\n",
            "|   137|[{16, 10.997052},...|\n",
            "|   190|[{1, 9.358923}, {...|\n",
            "|   192|[{7, 2.9509852}, ...|\n",
            "|   193|[{16, 11.539395},...|\n",
            "|   206|[{1, 1.9243739}, ...|\n",
            "|   222|[{1, 0.9859009}, ...|\n",
            "|   223|[{1, 2.877625}, {...|\n",
            "|   230|[{7, 2.9527855}, ...|\n",
            "|   233|[{7, 14.581817}, ...|\n",
            "|   285|[{2, 3.9681811}, ...|\n",
            "+------+--------------------+\n",
            "only showing top 20 rows\n",
            "\n"
          ]
        }
      ]
    },
    {
      "cell_type": "code",
      "source": [
        "print(type(testRecs))"
      ],
      "metadata": {
        "colab": {
          "base_uri": "https://localhost:8080/"
        },
        "id": "1zsUBruPYQA_",
        "outputId": "728bd99b-2cee-484e-fe23-ca75b2fd0c3f"
      },
      "execution_count": null,
      "outputs": [
        {
          "output_type": "stream",
          "name": "stdout",
          "text": [
            "<class 'pyspark.sql.dataframe.DataFrame'>\n"
          ]
        }
      ]
    },
    {
      "cell_type": "markdown",
      "metadata": {
        "id": "Kh1-1gLHS-_q"
      },
      "source": [
        "###PrefixSpan"
      ]
    },
    {
      "cell_type": "code",
      "execution_count": null,
      "metadata": {
        "colab": {
          "base_uri": "https://localhost:8080/"
        },
        "id": "-86KhmLzTIMH",
        "outputId": "6888ae4b-0bd3-4fc8-abab-a808dc7a4e2a"
      },
      "outputs": [
        {
          "name": "stdout",
          "output_type": "stream",
          "text": [
            "+-----------+----+\n",
            "|   sequence|freq|\n",
            "+-----------+----+\n",
            "|      [[3]]|   2|\n",
            "|      [[2]]|   3|\n",
            "|      [[1]]|   3|\n",
            "|   [[2, 3]]|   2|\n",
            "|   [[1, 3]]|   2|\n",
            "|   [[1, 2]]|   3|\n",
            "|[[1, 2, 3]]|   2|\n",
            "+-----------+----+\n",
            "\n"
          ]
        }
      ],
      "source": [
        "#Sample \n",
        "from pyspark.ml.fpm import PrefixSpan\n",
        "\n",
        "df = sc.parallelize([Row(sequence=[[1, 2, 3]]),\n",
        "                     Row(sequence=[[1, 3, 2, 1, 2]]),\n",
        "                     Row(sequence=[[1, 2, 5]]),\n",
        "                     Row(sequence=[[6]])]).toDF()\n",
        "\n",
        "prefixSpan = PrefixSpan(minSupport=0.5, maxPatternLength=5,\n",
        "                        maxLocalProjDBSize=32000000)\n",
        "\n",
        "# Find frequent sequential patterns.\n",
        "prefixSpan.findFrequentSequentialPatterns(df).show()"
      ]
    },
    {
      "cell_type": "code",
      "execution_count": null,
      "metadata": {
        "colab": {
          "base_uri": "https://localhost:8080/"
        },
        "id": "sIIH9hzPUBzC",
        "outputId": "12b4a562-5e6b-4b58-e7eb-60d2960d75c8"
      },
      "outputs": [
        {
          "name": "stdout",
          "output_type": "stream",
          "text": [
            "<class 'pyspark.rdd.RDD'>\n"
          ]
        }
      ],
      "source": [
        "# Read datafile\n",
        "\n",
        "lines = sc.textFile(\"msnbc990928.seq\")\n",
        "print(type(lines))\n",
        "# print(lines.collect())"
      ]
    },
    {
      "cell_type": "code",
      "execution_count": null,
      "metadata": {
        "colab": {
          "base_uri": "https://localhost:8080/"
        },
        "id": "xLNBOEjePRZ3",
        "outputId": "12f6c5d0-d518-492a-a53f-f2afb86cc75c"
      },
      "outputs": [
        {
          "data": {
            "text/plain": [
              "[Row(sequence=[['1', '1']]),\n",
              " Row(sequence=[['2']]),\n",
              " Row(sequence=[['3', '2', '2', '4', '2', '2', '2', '3', '3']]),\n",
              " Row(sequence=[['5']]),\n",
              " Row(sequence=[['1']]),\n",
              " Row(sequence=[['6']]),\n",
              " Row(sequence=[['1', '1']]),\n",
              " Row(sequence=[['6']]),\n",
              " Row(sequence=[['6', '7', '7', '7', '6', '6', '8', '8', '8', '8']]),\n",
              " Row(sequence=[['6', '9', '4', '4', '4', '10', '3', '10', '5', '10', '4', '4', '4']])]"
            ]
          },
          "execution_count": 85,
          "metadata": {},
          "output_type": "execute_result"
        }
      ],
      "source": [
        "seq_lines = lines.map(lambda value: value.split(\" \"))\n",
        "seq_lines = seq_lines.map(lambda value: Row(sequence=[value[:-1]]))\n",
        "seq_lines.take(10)"
      ]
    },
    {
      "cell_type": "code",
      "execution_count": null,
      "metadata": {
        "id": "kt5OXBctgdJ3"
      },
      "outputs": [],
      "source": [
        "seq_df = seq_lines.toDF()"
      ]
    },
    {
      "cell_type": "code",
      "execution_count": null,
      "metadata": {
        "colab": {
          "base_uri": "https://localhost:8080/"
        },
        "id": "jjBEhRGzhSMA",
        "outputId": "48f435c5-4dff-4fbc-d87b-0d479a586cca"
      },
      "outputs": [
        {
          "name": "stdout",
          "output_type": "stream",
          "text": [
            "+--------------------+\n",
            "|            sequence|\n",
            "+--------------------+\n",
            "|            [[1, 1]]|\n",
            "|               [[2]]|\n",
            "|[[3, 2, 2, 4, 2, ...|\n",
            "|               [[5]]|\n",
            "|               [[1]]|\n",
            "|               [[6]]|\n",
            "|            [[1, 1]]|\n",
            "|               [[6]]|\n",
            "|[[6, 7, 7, 7, 6, ...|\n",
            "|[[6, 9, 4, 4, 4, ...|\n",
            "|[[1, 1, 1, 11, 1,...|\n",
            "|          [[12, 12]]|\n",
            "|            [[1, 1]]|\n",
            "|[[8, 8, 8, 8, 8, 8]]|\n",
            "|               [[6]]|\n",
            "|               [[2]]|\n",
            "|           [[9, 12]]|\n",
            "|               [[3]]|\n",
            "|               [[9]]|\n",
            "|               [[3]]|\n",
            "+--------------------+\n",
            "only showing top 20 rows\n",
            "\n"
          ]
        }
      ],
      "source": [
        "seq_df.show()"
      ]
    },
    {
      "cell_type": "code",
      "execution_count": null,
      "metadata": {
        "id": "MVc7RIzihTf3"
      },
      "outputs": [],
      "source": [
        "from pyspark.ml.fpm import PrefixSpan\n",
        "prefixSpan = PrefixSpan(minSupport=0.001, maxPatternLength=100, maxLocalProjDBSize=32000000)\n"
      ]
    },
    {
      "cell_type": "code",
      "execution_count": null,
      "metadata": {
        "id": "yW1glUrah7RI"
      },
      "outputs": [],
      "source": [
        "seq_patterns = prefixSpan.findFrequentSequentialPatterns(seq_df)"
      ]
    },
    {
      "cell_type": "code",
      "execution_count": null,
      "metadata": {
        "colab": {
          "base_uri": "https://localhost:8080/"
        },
        "id": "PRNS09nLh9yv",
        "outputId": "4345eeef-edc6-45c6-e104-68b2341984e0"
      },
      "outputs": [
        {
          "name": "stdout",
          "output_type": "stream",
          "text": [
            "+-----------+------+\n",
            "|   sequence|  freq|\n",
            "+-----------+------+\n",
            "|      [[7]]| 80514|\n",
            "|     [[16]]|  2082|\n",
            "|     [[10]]| 50606|\n",
            "|     [[14]]|119138|\n",
            "|      [[1]]|313181|\n",
            "|      [[9]]| 90192|\n",
            "|      [[4]]|121719|\n",
            "|      [[2]]|175286|\n",
            "|      [[3]]|121948|\n",
            "|      [[8]]| 95615|\n",
            "|     [[15]]| 29200|\n",
            "|     [[11]]| 57597|\n",
            "|     [[17]]| 11006|\n",
            "|     [[12]]|112183|\n",
            "|      [[5]]| 24987|\n",
            "|     [[13]]| 76948|\n",
            "|      [[6]]|217101|\n",
            "|  [[7, 17]]|  1812|\n",
            "|   [[7, 5]]|  3848|\n",
            "|[[7, 5, 5]]|  2290|\n",
            "+-----------+------+\n",
            "only showing top 20 rows\n",
            "\n"
          ]
        }
      ],
      "source": [
        "seq_patterns.show()"
      ]
    },
    {
      "cell_type": "code",
      "execution_count": null,
      "metadata": {
        "id": "iaX-JrVAiSHu"
      },
      "outputs": [],
      "source": [
        "# seq_patterns.count()"
      ]
    },
    {
      "cell_type": "markdown",
      "metadata": {
        "id": "v4tRShaO4o0o"
      },
      "source": [
        "### FPGrowth\n"
      ]
    },
    {
      "cell_type": "code",
      "execution_count": null,
      "metadata": {
        "id": "EHvHYJl84qLV"
      },
      "outputs": [],
      "source": [
        "#Sample \n",
        "from pyspark.ml.fpm import FPGrowth\n",
        "\n",
        "df = spark.createDataFrame([\n",
        "    (0, [1, 2, 5]),\n",
        "    (1, [1, 2, 3, 5]),\n",
        "    (2, [1, 2])\n",
        "], [\"id\", \"items\"])\n",
        "\n",
        "fpGrowth = FPGrowth(itemsCol=\"items\", minSupport=0.5, minConfidence=0.6)\n",
        "model = fpGrowth.fit(df)\n",
        "\n",
        "# Display frequent itemsets.\n",
        "model.freqItemsets.show()\n",
        "\n",
        "# Display generated association rules.\n",
        "model.associationRules.show()\n",
        "\n",
        "# transform examines the input items against all the association rules and summarize the\n",
        "# consequents as prediction\n",
        "model.transform(df).show()"
      ]
    },
    {
      "cell_type": "code",
      "execution_count": null,
      "metadata": {
        "colab": {
          "base_uri": "https://localhost:8080/"
        },
        "id": "YJQg4lle56i9",
        "outputId": "b66e925c-1331-4f1c-c65c-719ae71d5be0"
      },
      "outputs": [
        {
          "name": "stdout",
          "output_type": "stream",
          "text": [
            "<class 'pyspark.rdd.RDD'>\n"
          ]
        }
      ],
      "source": [
        "# Read datafile\n",
        "\n",
        "lines = sc.textFile(\"msnbc990928.seq\")\n",
        "print(type(lines))\n",
        "# print(lines.collect())"
      ]
    },
    {
      "cell_type": "code",
      "execution_count": null,
      "metadata": {
        "colab": {
          "base_uri": "https://localhost:8080/"
        },
        "id": "1ZK5adpb56dp",
        "outputId": "268aad7f-42e8-4d63-bc97-14287c6fc4f9"
      },
      "outputs": [
        {
          "data": {
            "text/plain": [
              "[Row(id=0, categories=['1']),\n",
              " Row(id=1, categories=['2']),\n",
              " Row(id=2, categories=['4', '3', '2']),\n",
              " Row(id=3, categories=['5']),\n",
              " Row(id=4, categories=['1']),\n",
              " Row(id=5, categories=['6']),\n",
              " Row(id=6, categories=['1']),\n",
              " Row(id=7, categories=['6']),\n",
              " Row(id=8, categories=['7', '8', '6']),\n",
              " Row(id=9, categories=['10', '5', '3', '4', '9', '6'])]"
            ]
          },
          "execution_count": 96,
          "metadata": {},
          "output_type": "execute_result"
        }
      ],
      "source": [
        "seq_lines = lines.map(lambda value: value.split(\" \"))\n",
        "seq_lines = seq_lines.zipWithIndex().map(lambda value: Row(id=value[1],categories=list(set(value[0][:-1]))))\n",
        "seq_lines.take(10)"
      ]
    },
    {
      "cell_type": "code",
      "execution_count": null,
      "metadata": {
        "id": "9dLT2QUu56Va"
      },
      "outputs": [],
      "source": [
        "FPG_df = seq_lines.toDF()"
      ]
    },
    {
      "cell_type": "code",
      "execution_count": null,
      "metadata": {
        "colab": {
          "base_uri": "https://localhost:8080/"
        },
        "id": "rO4Svrr86yog",
        "outputId": "1340c7cd-6b3b-4fee-f071-9c0cfb782334"
      },
      "outputs": [
        {
          "name": "stdout",
          "output_type": "stream",
          "text": [
            "+---+-------------------+\n",
            "| id|         categories|\n",
            "+---+-------------------+\n",
            "|  0|                [1]|\n",
            "|  1|                [2]|\n",
            "|  2|          [4, 3, 2]|\n",
            "|  3|                [5]|\n",
            "|  4|                [1]|\n",
            "|  5|                [6]|\n",
            "|  6|                [1]|\n",
            "|  7|                [6]|\n",
            "|  8|          [7, 8, 6]|\n",
            "|  9|[10, 5, 3, 4, 9, 6]|\n",
            "| 10|            [1, 11]|\n",
            "| 11|               [12]|\n",
            "| 12|                [1]|\n",
            "| 13|                [8]|\n",
            "| 14|                [6]|\n",
            "| 15|                [2]|\n",
            "| 16|            [12, 9]|\n",
            "| 17|                [3]|\n",
            "| 18|                [9]|\n",
            "| 19|                [3]|\n",
            "+---+-------------------+\n",
            "only showing top 20 rows\n",
            "\n"
          ]
        }
      ],
      "source": [
        "FPG_df.show()"
      ]
    },
    {
      "cell_type": "code",
      "execution_count": null,
      "metadata": {
        "colab": {
          "base_uri": "https://localhost:8080/"
        },
        "id": "9N1i9nn662F5",
        "outputId": "54e2fd68-0b64-47b4-eecb-f8fdd7dbcdd3"
      },
      "outputs": [
        {
          "name": "stderr",
          "output_type": "stream",
          "text": [
            "/usr/local/lib/python3.7/dist-packages/pyspark/sql/context.py:127: FutureWarning: Deprecated in 3.0.0. Use SparkSession.builder.getOrCreate() instead.\n",
            "  FutureWarning\n"
          ]
        },
        {
          "name": "stdout",
          "output_type": "stream",
          "text": [
            "+---------+------+\n",
            "|    items|  freq|\n",
            "+---------+------+\n",
            "|      [9]| 90192|\n",
            "|   [9, 2]| 10255|\n",
            "|   [9, 4]| 18115|\n",
            "|   [9, 6]| 15111|\n",
            "|   [9, 3]| 10383|\n",
            "|  [9, 12]| 10173|\n",
            "|   [9, 1]| 11311|\n",
            "|      [2]|175286|\n",
            "|   [2, 6]| 25425|\n",
            "|[2, 6, 1]| 15106|\n",
            "|   [2, 1]| 74704|\n",
            "|      [5]| 24987|\n",
            "|   [5, 1]| 12345|\n",
            "|      [4]|121719|\n",
            "|   [4, 2]| 27533|\n",
            "|[4, 2, 1]| 16566|\n",
            "|   [4, 6]| 21445|\n",
            "|   [4, 3]| 13962|\n",
            "|   [4, 1]| 39183|\n",
            "|     [13]| 76948|\n",
            "+---------+------+\n",
            "only showing top 20 rows\n",
            "\n",
            "+----------+----------+------------------+------------------+--------------------+\n",
            "|antecedent|consequent|        confidence|              lift|             support|\n",
            "+----------+----------+------------------+------------------+--------------------+\n",
            "|      [11]|       [1]|0.5681198673542025|1.7955599824536035| 0.03305860269261622|\n",
            "|   [12, 2]|       [1]|0.6619195838485482|2.0920168166197897|0.015683691345277615|\n",
            "|    [7, 2]|       [1]|0.6501154734411085| 2.054709569515811|0.013082202990852864|\n",
            "|    [7, 2]|       [4]|0.5211366603072598| 4.237879434040793|0.010486776356865606|\n",
            "|    [4, 2]|       [1]|0.6016779864163004|  1.90162143028667|0.016736410127922506|\n",
            "|   [14, 2]|       [1]|0.6325142375026366| 1.999080332256378|0.012118389441291228|\n",
            "|      [10]|       [1]|0.5186736750582935|1.6392837997798397|0.026518006340559577|\n",
            "|    [2, 6]|       [1]|0.5941396263520158|1.8777962158512156|0.015261391488132162|\n",
            "|   [10, 2]|       [1]|0.6829185520361991|2.1583846891713305| 0.01219820209371824|\n",
            "|    [7, 4]|       [1]|  0.54023456287691|1.7074276362796506|0.014752206971382617|\n",
            "|    [3, 2]|       [1]|0.5813300648426379|1.8373112102024394|0.014854245932080443|\n",
            "|   [11, 2]|       [1]|0.7542324081538638|2.3837742831590716|0.013232735715050646|\n",
            "+----------+----------+------------------+------------------+--------------------+\n",
            "\n",
            "+---+-------------------+----------+\n",
            "| id|         categories|prediction|\n",
            "+---+-------------------+----------+\n",
            "|  0|                [1]|        []|\n",
            "|  1|                [2]|        []|\n",
            "|  2|          [4, 3, 2]|       [1]|\n",
            "|  3|                [5]|        []|\n",
            "|  4|                [1]|        []|\n",
            "|  5|                [6]|        []|\n",
            "|  6|                [1]|        []|\n",
            "|  7|                [6]|        []|\n",
            "|  8|          [7, 8, 6]|        []|\n",
            "|  9|[10, 5, 3, 4, 9, 6]|       [1]|\n",
            "| 10|            [1, 11]|        []|\n",
            "| 11|               [12]|        []|\n",
            "| 12|                [1]|        []|\n",
            "| 13|                [8]|        []|\n",
            "| 14|                [6]|        []|\n",
            "| 15|                [2]|        []|\n",
            "| 16|            [12, 9]|        []|\n",
            "| 17|                [3]|        []|\n",
            "| 18|                [9]|        []|\n",
            "| 19|                [3]|        []|\n",
            "+---+-------------------+----------+\n",
            "only showing top 20 rows\n",
            "\n"
          ]
        }
      ],
      "source": [
        "from pyspark.ml.fpm import FPGrowth\n",
        "fpGrowth = FPGrowth(itemsCol=\"categories\", minSupport=0.01, minConfidence=0.5)\n",
        "model = fpGrowth.fit(FPG_df)\n",
        "\n",
        "# Display frequent itemsets.\n",
        "model.freqItemsets.show()\n",
        "\n",
        "# Display generated association rules.\n",
        "model.associationRules.show()\n",
        "\n",
        "# transform examines the input items against all the association rules and summarize the\n",
        "# consequents as prediction\n",
        "model.transform(FPG_df).show()"
      ]
    },
    {
      "cell_type": "code",
      "execution_count": null,
      "metadata": {
        "id": "QcF89nJDRwyH"
      },
      "outputs": [],
      "source": [
        ""
      ]
    }
  ],
  "metadata": {
    "colab": {
      "collapsed_sections": [],
      "machine_shape": "hm",
      "name": "CSE488_Spark_Project.ipynb",
      "provenance": []
    },
    "kernelspec": {
      "display_name": "Python 3",
      "language": "python",
      "name": "python3"
    },
    "language_info": {
      "codemirror_mode": {
        "name": "ipython",
        "version": 3
      },
      "file_extension": ".py",
      "mimetype": "text/x-python",
      "name": "python",
      "nbconvert_exporter": "python",
      "pygments_lexer": "ipython3",
      "version": "3.7.3"
    }
  },
  "nbformat": 4,
  "nbformat_minor": 0
}